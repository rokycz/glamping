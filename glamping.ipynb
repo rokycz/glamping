{
 "cells": [
  {
   "cell_type": "code",
   "execution_count": null,
   "metadata": {},
   "outputs": [],
   "source": [
    "import requests\n",
    "from datetime import datetime\n",
    "from matplotlib import pyplot as plt\n",
    "from time import sleep"
   ]
  },
  {
   "cell_type": "code",
   "execution_count": null,
   "metadata": {},
   "outputs": [],
   "source": [
    "def getKillMails():\n",
    "    \"\"\"\n",
    "    get all the kills of the AKINA mountain family corporation from https://zkillboard.com/corporation/98615098/kills/\n",
    "    this is the corporation that hosts all the CCTV EYES XY, AKINA MOUNTAIN XY etc.\n",
    "    \"\"\"\n",
    "    morePages = True\n",
    "    page = 1\n",
    "    killmails = []\n",
    "\n",
    "    while morePages == True:\n",
    "        url = \"https://zkillboard.com/api/kills/corporationID/98615098/page/\" + str(page) + \"/\"\n",
    "        \n",
    "        response = requests.get(url)\n",
    "        \n",
    "\n",
    "        #zkill does not seem to like getting DDoSed, so adding a delay\n",
    "        sleep(1)\n",
    "        \n",
    "\n",
    "        if response.status_code != 200:\n",
    "            morePages = False\n",
    "        \n",
    "        else:\n",
    "            killmails = killmails + response.json()\n",
    "            page += 1\n",
    "\n",
    "            #only take the first 30 pages = 6000 killmails\n",
    "            if page > 30:\n",
    "                morePages = False\n",
    "\n",
    "        \n",
    "    return(killmails)\n",
    "\n",
    "def getKillMailDetails(id, hash):\n",
    "    \"\"\"\n",
    "    the zkillboard response does not include many details, so retrieve those from ESI\n",
    "    \"\"\"\n",
    "\n",
    "    url = \"https://esi.evetech.net/latest/killmails/\" + str(id) + \"/\" + str(hash) + \"/?datasource=tranquility\"\n",
    "    response = requests.get(url)\n",
    "\n",
    "    return(response.json())\n"
   ]
  },
  {
   "cell_type": "code",
   "execution_count": null,
   "metadata": {},
   "outputs": [],
   "source": [
    "#get the killmails\n",
    "killmails = getKillMails()\n",
    "print(len(killmails))"
   ]
  },
  {
   "cell_type": "code",
   "execution_count": null,
   "metadata": {},
   "outputs": [],
   "source": [
    "killmailDetails = []\n",
    "\n",
    "# this will take a while, expect 4-5 minutes per 1000 killmails. go get yourself a coffee.\n",
    "# it will also likely timeout at some point as ESI does not like to get DDoSed either, but I do not care enough to add a delay here\n",
    "\n",
    "for km in killmails:\n",
    "    killmailID = km[\"killmail_id\"]\n",
    "    killmailHash = km[\"zkb\"][\"hash\"]\n",
    "\n",
    "    details = getKillMailDetails(killmailID, killmailHash)\n",
    "\n",
    "    killmailDetails.append(details)\n",
    "\n",
    "print(len(killmailDetails),\"killmails in total\")\n",
    "    \n",
    "    "
   ]
  },
  {
   "cell_type": "code",
   "execution_count": null,
   "metadata": {},
   "outputs": [],
   "source": [
    "print(killmailDetails[3])"
   ]
  },
  {
   "cell_type": "code",
   "execution_count": null,
   "metadata": {},
   "outputs": [],
   "source": [
    "#ignore large fights\n",
    "prunedKillmails = []\n",
    "\n",
    "for km in killmailDetails:\n",
    "    killmailAdded = False\n",
    "\n",
    "    try:\n",
    "        if km[\"victim\"][\"ship_type_id\"] != 670:                                                         # ignore pods\n",
    "\n",
    "            try:\n",
    "                if len(km[\"attackers\"]) < 9:                                                            # this is to limit the killmails to (mostly)drops, rather than large fleet fights, that the members of AKINA mountain family join\n",
    "                    # if (datetime.now() - datetime.fromisoformat(km[\"killmail_time\"][:-1])).days > 90:   # killmails from last 90 days\n",
    "                    for attacker in km[\"attackers\"]:\n",
    "                        if attacker[\"ship_type_id\"] == 11969 and killmailAdded == False:            # add killmails including an arazu to the list\n",
    "                            prunedKillmails.append(km)\n",
    "                            killmailAdded = True\n",
    "\n",
    "            \n",
    "            except: pass\n",
    "    except: pass\n",
    "print(len(prunedKillmails), \"killmails in total\")"
   ]
  },
  {
   "cell_type": "code",
   "execution_count": null,
   "metadata": {},
   "outputs": [],
   "source": [
    "finalBlowAlliance = []\n",
    "suspiciousKillmails = []\n",
    "for km in prunedKillmails:\n",
    "    for attacker in km[\"attackers\"]:\n",
    "        if attacker[\"final_blow\"]:\n",
    "            try:\n",
    "                if attacker[\"alliance_id\"] != 99011168:                                                 # add kills where the killing blow was not dealt by member of AKINA mountain family to separate list\n",
    "                    suspiciousKillmails.append(km)\n",
    "                    finalBlowAlliance.append(attacker[\"alliance_id\"])\n",
    "\n",
    "                    \n",
    "            except: pass"
   ]
  },
  {
   "cell_type": "code",
   "execution_count": null,
   "metadata": {},
   "outputs": [],
   "source": [
    "# this can be ignored now\n",
    "\n",
    "print(len(suspiciousKillmails))\n",
    "print(len(set(finalBlowAlliance)))"
   ]
  },
  {
   "cell_type": "code",
   "execution_count": null,
   "metadata": {},
   "outputs": [],
   "source": [
    "killmailTimes = []\n",
    "for km in prunedKillmails:\n",
    "    killmailTimes.append(km[\"killmail_time\"])\n",
    "\n",
    "killHour = []\n",
    "\n",
    "for time in killmailTimes:\n",
    "    killHour.append(datetime.fromisoformat(time[:-1]).hour)"
   ]
  },
  {
   "cell_type": "code",
   "execution_count": null,
   "metadata": {},
   "outputs": [],
   "source": [
    "# this can be ignored now\n",
    "\n",
    "suspiciousHours = []\n",
    "suspiciousTimes = []\n",
    "\n",
    "for km in suspiciousKillmails:\n",
    "    suspiciousTimes.append(km[\"killmail_time\"])\n",
    "\n",
    "for time in suspiciousTimes:\n",
    "    suspiciousHours.append(datetime.fromisoformat(time[:-1]).hour)"
   ]
  },
  {
   "cell_type": "code",
   "execution_count": null,
   "metadata": {},
   "outputs": [],
   "source": [
    "# this can be ignored now\n",
    "\n",
    "plt.figure(figsize=(24, 12))\n",
    "\n",
    "plt.hist(killHour, bins=np.arange(24)-0.5, rwidth=0.9)\n",
    "plt.hist(suspiciousHours, bins=np.arange(24)-0.5, rwidth=0.9)\n",
    "plt.xlabel('hour of day')\n",
    "plt.xticks(np.arange(1,24,1))\n",
    "plt.yticks(np.arange(1,60,5))\n",
    "plt.ylabel('Number of kills')\n",
    "plt.grid()"
   ]
  },
  {
   "cell_type": "code",
   "execution_count": null,
   "metadata": {},
   "outputs": [],
   "source": [
    "# this can be ignored now\n",
    "\n",
    "t0 = prunedKillmails[0][\"killmail_time\"][:-1]\n",
    "timeDeltas = []\n",
    "timeOfKill = []\n",
    "\n",
    "for km in prunedKillmails[1:]:\n",
    "\n",
    "    timeDeltas.append(datetime.fromisoformat(t0) - datetime.fromisoformat(km[\"killmail_time\"][:-1]))\n",
    "    timeOfKill.append(datetime.fromisoformat(km[\"killmail_time\"][:-1]))\n",
    "    \n",
    "    t0 = km[\"killmail_time\"][:-1]\n"
   ]
  },
  {
   "cell_type": "code",
   "execution_count": null,
   "metadata": {},
   "outputs": [],
   "source": [
    "# this can be ignored now\n",
    "\n",
    "\n",
    "timeDeltasHours = []\n",
    "sleep = []\n",
    "\n",
    "for delta in timeDeltas:\n",
    "    hours = delta.seconds / 3600\n",
    "    timeDeltasHours.append(hours)\n",
    "    if hours > 6 and hours <24:\n",
    "        sleep.append(hours)\n",
    "        "
   ]
  },
  {
   "cell_type": "code",
   "execution_count": null,
   "metadata": {},
   "outputs": [],
   "source": [
    "# this can be ignored now\n",
    "\n",
    "print(\"average between kills \",np.average(timeDeltasHours))\n",
    "print(\"median time between kills \",np.median(timeDeltasHours))\n",
    "print(\"max time between kills \", np.max(timeDeltasHours))\n"
   ]
  },
  {
   "cell_type": "code",
   "execution_count": null,
   "metadata": {},
   "outputs": [],
   "source": [
    "# create a separate old killmails as baseline to compare the new ones against\n",
    "\n",
    "olderKillmails = []\n",
    "newerKillmails = []\n",
    "\n",
    "for km in prunedKillmails:\n",
    "    if (datetime.now() - datetime.fromisoformat(km[\"killmail_time\"][:-1])).days > 5:   # killmails from last 90 days\n",
    "        olderKillmails.append(km)\n",
    "\n",
    "for km in prunedKillmails:\n",
    "    if (datetime.now() - datetime.fromisoformat(km[\"killmail_time\"][:-1])).days <= 5:   # killmails from last 90 days\n",
    "        newerKillmails.append(km)"
   ]
  },
  {
   "cell_type": "code",
   "execution_count": null,
   "metadata": {},
   "outputs": [],
   "source": [
    "newKillmailTimes = []\n",
    "oldKillmailTimes = []\n",
    "\n",
    "for km in olderKillmails:\n",
    "    oldKillmailTimes.append(datetime.fromisoformat(km[\"killmail_time\"][:-1]).hour)\n",
    "\n",
    "for km in newerKillmails:\n",
    "    newKillmailTimes.append(datetime.fromisoformat(km[\"killmail_time\"][:-1]).hour)\n"
   ]
  },
  {
   "cell_type": "code",
   "execution_count": null,
   "metadata": {},
   "outputs": [],
   "source": [
    "plt.figure(figsize=(24, 12))\n",
    "\n",
    "plt.hist(oldKillmailTimes, bins=np.arange(24)-0.5, rwidth=0.9)\n",
    "plt.hist(newKillmailTimes, bins=np.arange(24)-0.5, rwidth=0.9)\n",
    "plt.xlabel('hour of day')\n",
    "plt.xticks(np.arange(1,24,1))\n",
    "plt.yticks(np.arange(0,80,2))\n",
    "plt.ylabel('Number of kills')\n",
    "plt.grid()\n"
   ]
  },
  {
   "cell_type": "code",
   "execution_count": null,
   "metadata": {},
   "outputs": [],
   "source": []
  }
 ],
 "metadata": {
  "kernelspec": {
   "display_name": "Python 3.9.7 64-bit",
   "language": "python",
   "name": "python3"
  },
  "language_info": {
   "codemirror_mode": {
    "name": "ipython",
    "version": 3
   },
   "file_extension": ".py",
   "mimetype": "text/x-python",
   "name": "python",
   "nbconvert_exporter": "python",
   "pygments_lexer": "ipython3",
   "version": "3.9.7"
  },
  "orig_nbformat": 4,
  "vscode": {
   "interpreter": {
    "hash": "f9f85f796d01129d0dd105a088854619f454435301f6ffec2fea96ecbd9be4ac"
   }
  }
 },
 "nbformat": 4,
 "nbformat_minor": 2
}
