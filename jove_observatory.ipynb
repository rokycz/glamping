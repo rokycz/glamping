{
 "cells": [
  {
   "cell_type": "code",
   "execution_count": 1,
   "metadata": {},
   "outputs": [],
   "source": [
    "import requests\n",
    "import json\n",
    "import time\n",
    "from functions import getSystemID, getRoute\n",
    "from data import island, systems"
   ]
  },
  {
   "cell_type": "code",
   "execution_count": 2,
   "metadata": {},
   "outputs": [],
   "source": [
    "# def getSystemID(listofsystems):\n",
    "#     url = \"https://esi.evetech.net/latest/universe/ids/\" + listofsystems\n",
    "#     listofsystemIDs = response = requests.post(url).json()\n",
    "\n",
    "#     return(listofsystemIDs)\n",
    "\n",
    "\n",
    "# def getRoute(current_system, jove_obs_system):\n",
    "#     try:\n",
    "#         url = \"https://esi.evetech.net/latest/route/\" + current_system + \"/\" + jove_obs_system\n",
    "#         response = requests.get(url)\n",
    "#     except:\n",
    "#         time.sleep(5)\n",
    "#         try:\n",
    "#             url = \"https://esi.evetech.net/latest/route/\" + current_system + \"/\" + jove_obs_system\n",
    "#             response = requests.get(url)\n",
    "#         except:\n",
    "#             print(\"failed for \", jove_obs_system)\n",
    "#             response = requests\n",
    "#     return(response.json())"
   ]
  },
  {
   "cell_type": "code",
   "execution_count": 3,
   "metadata": {},
   "outputs": [],
   "source": [
    "# island = [\"Elanoda\", \"Uesuro\", \"Oishami\", \"Aivoli\", \"Endatoh\", \"Otalieto\", \"Jotenen\", \"Atai\", \"Rauntaka\", \"Liukikka\", \"Aikantoh\"]"
   ]
  },
  {
   "cell_type": "code",
   "execution_count": 4,
   "metadata": {},
   "outputs": [],
   "source": [
    "# systemstring = \"0-4VQL,0-ARFO,0-G8NO,0-U2M4,0-VG7A,0-WVQS,0-XIDJ,01TG-J,08S-39,0D-CHA,0LTQ-C,0LY-W1,0MV-4W,0P-U0Q,12YA-2,15U-JY,16AM-3,1GT-MA,1KAW-T,1N-FJ8,1NZV-7,1PF-BC,1QZ-Y9,1VK-6B,1W-0KS,1ZF-PJ,2-F3OE,2-KPW6,25S-6P,28O-JY,2B-3M4,2B7A-3,2G38-I,2IGP-1,2PLH-3,2UK4-N,2ULC-J,2V-CS5,2WU-XT,3-BADZ,3-JG3X,3-LJW3,33RB-O,373Z-7,37S-KO,39-DGG,3D5K-R,3DR-CR,3GD6-8,3IK-7O,3JN9-Q,3L3N-X,3PPT-9,3Q-VZA,4-07MU,4-1ECP,4-ABS8,4-CUM5,4-EFLU,4-QDIX,42-UOW,4AZV-W,4CJ-AC,4DTQ-K,4E-EZS,4K0N-J,4M-P1I,4NDT-W,4O-ZRI,4OIV-X,4RX-EE,4XW2-D,5-2PQU,5-FGQI,5-O8B1,5-T0PZ,5-VKCN,51-5XG,52G-NZ,57-YRU,5C-RPA,5E-EZC,5ED-4E,5HN-D6,5J4K-9,5NQI-E,5T-KM3,5W3-DG,5ZXX-K,6-4V20,6-CZ49,6-I162,6-KPAB,617I-I,62O-UE,6E-MOW,6EK-BV,6F-H3W,6FS-CZ,6L78-1,6O-XIO,6OYQ-Z,6QBH-S,6U-MFQ,6WW-28,7-8EOE,7-A6XV,7-K5EL,77-KDQ,7BX-6F,7D-PAT,7LHB-Z,7Q-8Z2,7T-0QS,7X-02R,8-AA98,8-OZU1,86L-9F,87-1PM,87XQ-0,88A-RA,89-JPE,8B-SAJ,8DL-CP,8F-TK3,8KE-YS,8P9-BM,8R-RTB,9-02G0,9-266Q,9-8GBA,9-980U,9-ZA4Z,92K-H2,99-0GS,9IPC-E,9MWZ-B,9N-0HF,9P-870,9PX2-F,9U-TTJ,9UY4-H,A-5M31,A-BO4V,A-GPTM,A-HZYL,A1F-22,A1RR-M,A3-LOG,Abai,Abha,Abudban,AC-7LZ,AC2E-3,Access,Adahum,Adallier,Adiere,Adrallezoen,Adrel,Aeter,Afivad,Agha,Agtver,AH-B84,Aharalel,Ahkour,Ahrosseas,Ahtulaima,Aikoro,Aivoli,Aivonen,Ajanen,AJCJ-1,Akhrad,Akkio,Akora,Aldilur,Alenia,Algasienan,Algogille,Alles,Alsavoinon,Altbrard,Amattens,Ameinaka,Ami,Amoen,Ana,Anckee,Andole,Andrub,Anka,Annad,Ansasos,Antollare,APES-G,Arakor,Arant,Arayar,Arbaz,ARBX-9,Ardar,Ardhis,Ardishapur Prime,Arifsdald,Arnon,Arnstur,Arraron,Arzad,Arzieh,Asabona,Aset,Asgeir,Asghatil,Ashab,Ashmarir,Asrios,Athinard,Atonder,Aubonnie,Augnais,Aulbres,Auner,Aunia,Aurejet,Avair,AX-DOT,B-F1MI,B-G1LG,B-II34,B-VIP9,B-XJX4,B9EA-G,Balle,Bamiette,Basgerin,Bayuka,Bazadod,BEG-RL,Bekirdod,Bersyrim,BM-VYZ,Bogelek,Boranai,Bosboger,BOZ1-O,BR-6XP,BU-IU4,BVRQ-O,BW-WJ2,BWF-ZZ,BY-S36,C-LP3N,C-PEWN,C-VGYO,C-WPWH,C0T-77,C1G-XC,C2X-M5,C3J0-O,C6C-K9,C8VC-S,Cailanar,Central Point,CHA2-Q,Chamja,Chamume,Channace,Chanoun,Charmerout,Cherore,Chibi,CHP-76,CIS-7X,CJF-1P,CJNF-J,CL-J9W,Claulenne,CNHV-M,Colelie,CR-0E5,Crielere,Croleur,CT7-5V,CT8K-0,Cumemare,CX-1XF,D-0UI0,D-6WS1,D-FVI7,D-I9HJ,D-W7F0,DAI-SH,Dastryns,DDI-B7,DE71-9,Defsunun,DGDT-3,Dihra,Dimoohan,DJK-67,DK0-N8,Dom-Aphis,Doussivitte,Dunraelare,DUU1-K,DUV-5Y,DY-40Z,E-B957,E-BFLT,E-BYOS,E-DOF2,E-FIC0,E-VKJV,E-WMT7,E3-SDZ,E51-JE,E7VE-V,Earwik,Ebidan,Ebtesham,ED-L9T,Egbonbet,Eglennaert,Egmar,EIH-IU,EK2-ET,EKPB-3,Ekura,Enaluri,EOY-BG,EPCD-D,Erindur,Erstet,Erstur,Erzoh,ES-UWY,Esteban,Esubara,Eszur,ETO-OT,EU0I-T,EUU-4N,Evaulon,EX-0LQ,Eygfe,Eystur,F-749O,F-9PXR,F-TQWO,F-UVBV,F-ZBO0,F2-NXA,F3-8X2,F39H-1,F4R2-Q,F5-CGW,F5FO-U,F69O-M,F9E-KX,Fabin,Fanathor,Faspera,Faswiba,FD-MLJ,FDZ4-A,FE-6YQ,Fihrneh,Fildar,Firbha,Fluekele,Fovihi,Frarn,FRTC-5,FS-RFL,FSW-3C,FV-SE8,FV-YEA,FV1-RQ,FYD-TO,G-4H4C,G-AOTH,G-G78S,G-ME2K,G-UTHL,G-YZUX,G2-INZ,G8AD-C,G9L-LP,Galeh,Gallareue,Gallusiene,GC-LTF,GDHN-K,GE-94X,Gidali,GK5Z-T,GL6S-2,GN-PDU,GN7-XY,GPD5-0,GQ2S-8,GR-X26,GTB-O4,GU-9F4,Gulfonodi,Gyerzen,H-29TM,H-EBQG,H-HWQR,H-NOU5,H-S80W,H4X-0I,H5N-V7,H8-ZTO,H90-C9,Habu,Hadji,Hadonoo,Hahyil,Haine,Hakeri,Hakodan,Hakonen,Hakshma,Halenan,Halibai,Hasama,Hasateem,HB-1NJ,HB-5L3,HBD-CC,HD-AJ7,HD-HOZ,Hedaleolfarber,Hegfunden,Hesarid,Heydieles,HG-YEQ,HHE5-L,HIK-MC,Hikansog,Hilaban,Hilfhurmur,Hiremir,Hishai,Hjoramold,HKYW-T,HL-VZX,HM-XR2,HMF-9D,HO4E-Q,Hodrold,Hoona,Hoseen,HP-6Z6,HPBE-D,HPV-RJ,Hrokkur,Hulmate,Huna,Hutian,Hykanima,Hysera,I-7JR4,I-8D0G,I-9GI1,I-CUVX,I-MGAB,I6-SYN,I9-ZQZ,IAK-JW,IBOX-2,IG-4OF,IGE-RI,Ihal,Ikoskio,Illamur,Immuri,Innia,IO-R2S,IP6V-X,IPX-H5,IRD-HU,Irjunen,IS-R7P,Isenan,Ishomilken,Isid,Isseras,Isutaka,Ithar,Itsyamil,Ivih,IX8-JB,Iyen-Oursta,J-AYLV,J-OAH2,J-RXYN,J52-BH,J7-BDX,J7A-UR,J7X-VN,J9A-BH,JA-G0T,JA-O6J,Jakanerva,Jambu,JAUD-V,JC-YX8,Jennim,JEQG-7,JGOW-Y,JI1-SY,JKJ-VJ,JLO-Z3,Jondik,Joppaya,JPEZ-R,JQU-KY,JT2I-7,JU-UYK,Juddi,JWZ2-V,JXQJ-B,JZ-B5Y,JZ-UQC,JZV-F4,K-MGJ7,K-X5AX,K-XJJT,K-YL9T,K1Y-5H,K3JR-J,K42-IE,K7-LDX,K76A-3,Kausaaja,KBAK-I,KCT-0A,KD-KPR,KED-2O,KEJY-U,Kerepa,KFR-ZE,KGCF-5,KGT3-6,Khabara,Kirras,KMC-WI,KMH-J1,KMV-CQ,Knophtikoo,Komaa,Korama,KPI-OW,KQK1-2,KR8-27,Krilmokenur,Kuhri,Kulelen,Kurniainen,Kusomonmon,KW-OAM,L-1SW8,L-AS00,L-QQ6P,L-TOFR,L-Z9NB,L5-UWT,L6B-0N,L7XS-5,L8-WNE,Laah,Lamadent,Lari,Larkugei,Lasleinur,LBC-AW,LD-2VL,LE-67X,Leremblompes,Lermireve,LGK-VP,LGL-SD,Lirerim,LMM7-L,LQ-OAI,LRWD-B,LS9B-9,LW-YEW,LX-ZOJ,M-CNUD,M-HU4V,M-NP5O,M-SRKS,M2-2V1,M4-KX5,M9-FIB,Madomi,Mahtista,Maire,Malma,Mani,Marosier,Masanuh,MC4C-H,Mendori,Mercomesier,Merolles,Mesybier,MGAM-4,MH9C-S,Miah,MJ-5F9,MKD-O8,Moclinamaud,MOCW-2,Moh,Mora,Mormoen,Moro,MQ-O27,MS1-KJ,MTO2-2,Murzi,MXX5-9,Mya,MZ1E-P,MZLW-9,N-I024,N-O53U,N-Q5PW,N-RAEL,N-RMSH,N-TFXK,N-YLOE,N5Y-4N,N7-BIY,Nadohman,Nahrneder,Nakis,Nakregde,Nakri,Nakugard,Nasreri,NB-ALM,NBW-GD,NE-3GR,Nedegulf,NEH-CS,Nema,New Eden,NG-M8K,Nidebora,Nifshed,Nimambal,Nisuwa,NIZJ-0,NJ4X-S,Nomaa,Nomash,Nouta,NS2L-4,NSBE-L,NSI-MW,Nuken,NZW-ZO,O-7LAI,O-CT8N,O-IVNH,O-JPKH,O-LR1H,O-MCZR,O-N589,O-QKSM,O1Y-ED,O2O-2X,O3L-95,O7-7UX,Obanen,Oberen,Obrolber,Odin,Odinesyn,Ogaria,OGL8-Q,OGY-6D,Ohkunen,Oicx,Oishami,OJ-CT4,OKEO-X,Onatoh,Onnamon,OP7-BP,Ordize,Orien,Osaa,Ossa,Osvetur,Otelen,OTJ9-E,Otomainen,Otraren,OU-X3P,Ourapheh,Outuni,OXC-UL,OXIY-V,P3EN-E,P5-EFH,P65-TA,P7MI-T,P7Z-R3,P8-BKO,P9F-ZG,Pain,Parses,Pashanai,Paye,PE-H02,PE-SAM,PEK-8Z,Pera,Pertnineere,Peyiri,PFV-ZH,Phoren,Pimsu,PNS7-J,PO-3QW,Poitot,POQP-K,PQRE-W,Pserz,Pucherie,PWPY-4,PXF-RF,PZMA-E,Q-K2T7,Q-NA5H,Q-NJZ4,Q-R3GP,Q-XEB3,Q1-R7K,Q1U-IU,QA1-BT,QBL-BV,QFRV-2,QHH-13,QK-CDG,QKTR-L,QM-20X,QOK-SX,QQ3-YI,QR-K85,QSCO-D,QY6-RK,R-2R0G,R-ARKN,R-ESG0,R-ORB7,R0-DMM,R1O-GN,R3W-XU,Raa,Raihbaka,Rakapas,Raneilles,Rannoze,Rauntaka,Rayeret,RD-FWY,Remoriu,Reteka,RF-CN3,Rimbah,RJBC-I,RO-0PZ,Rokofur,RORZ-H,Roushzar,RUF3-O,Rumida,Ruvas,RXA-W1,RY-2FX,RYQC-I,RZ-PIY,RZC-16,S-1LIO,S-51XG,S-DN5M,S-MDYI,S-NJBB,S5W-1Z,S8-NSQ,Safilbab,Saikamon,Sakulda,Salah,Salashayama,Saminer,Sankkasen,Santola,Sassecho,Sasta,Sazre,Scolluzer,Scuelazyns,Seiradih,Sendaya,Serad,Seshala,SH1-6P,SH6X-F,Shach,Shaha,Shala,Shamahi,Sharji,Sharuveil,Shenela,Shihuken,Shuria,Sibe,Sigga,Simela,Sirekur,Sist,Situner,SN9S-N,SNFV-I,Sobenah,Somouh,Sosan,Sotrentaira,Soza,SPLE-Y,SR-KBB,Stegette,Stoure,SVB-RE,SY-OLX,SY-UWN,SZ6-TA,T-0JWP,T-AKQZ,T-K10W,T-LIWS,T-Q2DD,T-Z6J2,TA9T-P,Tabbetzur,Tahli,TAL1-3,Talidal,Tama,Tartoken,TCAG-3,TDE4-H,Teshkat,Teskanen,TET3-B,Tew,TFPT-U,Thakala,Tierijev,TJM-JJ,TL-T9Z,Toustain,Tralasa,TU-O0T,Tunttaras,TV8-HS,TXME-A,TYB-69,Tzashrah,U-BXU9,U-INPD,U-MFTL,U-QMOA,U-RELP,U-TJ7Y,U104-3,U2-28D,U93O-A,U9SE-N,U9U-TQ,UAYL-F,UB5Z-3,UC3H-Y,Uchomida,UD-VZW,UI-8ZE,Ukkalen,UKYS-5,Unel,UNJ-GX,Uotila,Uoyonen,Uplingur,Ustnia,UT-UZB,Uusanen,UVHO-F,UYU-VV,V-F6DQ,V-QXXK,V0DF-2,V6-NY1,V7D-JD,V89M-R,Valmu,Varigne,VBPT-T,Vecamia,VI2K-J,Vifrevaert,VQE-CN,Vuorrassi,VVB-QH,VWES-Y,W-4FA9,W-UQA5,W6V-VM,WB-AYY,WEQT-K,Weraroix,WFFE-4,WH-2EZ,WH-JCA,WHG2-7,WIO-OL,WPV-JN,WV-0R2,WV0D-1,WW-KGD,Wysalan,X-0CKQ,X-41DA,X-CYNC,X-EHHD,X-M9ON,X-Z4JW,X36Y-G,X5O1-L,X6-J6R,X9V-15,XA5-TY,XCBK-X,XD-TOV,XFBE-T,XKM-DE,XQP-9C,XSQ-TF,XT-R36,XTVZ-E,XU7-CH,XUPK-Z,Y-770C,Y-C4AL,Y-EQ0C,Y-FZ5N,Y-K50G,Y-ORBJ,Y-RAW3,Y-XZA7,Y1-UQ2,Y19P-1,Y4-GQV,Y6-HPG,Yashunen,Yeder,Yeeramoun,YG-82V,Yoma,YQM-P1,YRNJ-8,YRV-MZ,Yuhelia,YUY-LM,Yuzier,Yvelet,YZ9-F6,Z-2Y2Y,Z-7OK1,Z-8Q65,Z-K495,Z-M5A1,Z-N9IP,Z-PNIA,Z-UZZN,Z-YN5Y,Z3V-1W,Z9PP-H,ZA0L-U,Zahefeus,Zaimeth,ZD1-Z2,ZID-LE,Ziona,Ziriert,ZK-YQ3,ZM-DNR,ZN0-SR,ZO-4AR,ZO-P5K,ZOPZ-6,ZOYW-O,ZQ-Z3Y,ZXB-VC,ZZK-VF\"\n",
    "\n",
    "\n",
    "allsystems = {}\n",
    "with open(\"listofsystems.dat\") as f:\n",
    "    for line in f:\n",
    "       (system_name, system_id) = line.strip(\"\\n\").split(\";\")\n",
    "       allsystems[system_id] = system_name\n"
   ]
  },
  {
   "cell_type": "code",
   "execution_count": 5,
   "metadata": {},
   "outputs": [
    {
     "name": "stdout",
     "output_type": "stream",
     "text": [
      "Oishami\n",
      "Aivoli\n",
      "Rauntaka\n"
     ]
    }
   ],
   "source": [
    "for system in island:\n",
    "    if system in systems:\n",
    "        print(system)"
   ]
  },
  {
   "cell_type": "code",
   "execution_count": 6,
   "metadata": {},
   "outputs": [],
   "source": [
    "jovesystems = {}\n",
    "\n",
    "for system in systems:\n",
    "    jovesystems[system] = allsystems[system]"
   ]
  },
  {
   "cell_type": "code",
   "execution_count": 13,
   "metadata": {},
   "outputs": [],
   "source": [
    "current_system = \"DO6H-Q\""
   ]
  },
  {
   "cell_type": "code",
   "execution_count": 14,
   "metadata": {},
   "outputs": [],
   "source": [
    "distance = {}\n",
    "\n",
    "for system in jovesystems:\n",
    "    route = getRoute(allsystems[current_system],jovesystems[system])\n",
    "    # print(system,route)\n",
    "    if len(route) < 20:\n",
    "        distance[system] = len(route) - 1\n"
   ]
  },
  {
   "cell_type": "code",
   "execution_count": 16,
   "metadata": {},
   "outputs": [
    {
     "name": "stdout",
     "output_type": "stream",
     "text": [
      "0-ARFO\n",
      "12YA-2\n",
      "33RB-O\n",
      "4-ABS8\n",
      "5W3-DG\n",
      "E-FIC0\n",
      "JC-YX8\n",
      "KQK1-2\n",
      "MXX5-9\n",
      "N-TFXK\n",
      "O1Y-ED\n",
      "R-2R0G\n",
      "RORZ-H\n",
      "S-DN5M\n",
      "S-MDYI\n",
      "TXME-A\n",
      "U-INPD\n",
      "UC3H-Y\n",
      "WW-KGD\n",
      "X36Y-G\n",
      "ZOYW-O\n"
     ]
    }
   ],
   "source": [
    "for d in sorted(distance):\n",
    "    if distance[d] < 10 and distance[d] != 0:\n",
    "        print(d)"
   ]
  },
  {
   "cell_type": "code",
   "execution_count": null,
   "metadata": {},
   "outputs": [],
   "source": [
    "# FDZ neighbourhood\n",
    "# 7-K5EL MQ-O27 QKTR-L SR-KBB VI2K-J WH-2EZ XSQ-TF\n",
    "\n",
    "# DO6 neighbourhood\n",
    "# 0-ARFO 12YA-2 33RB-O 4-ABS8 5W3-DG E-FIC0 JC-YX8 KQK1-2 MXX5-9 N-TFXK O1Y-ED R-2R0G RORZ-H S-DN5M S-MDYI TXME-A U-INPD UC3H-Y WW-KGD X36Y-G ZOYW-O\n",
    "\n",
    "# MQ-027 C414\n",
    "# XSQ-TF C414 x2"
   ]
  },
  {
   "cell_type": "markdown",
   "metadata": {},
   "source": []
  },
  {
   "cell_type": "code",
   "execution_count": 2,
   "metadata": {},
   "outputs": [
    {
     "name": "stdout",
     "output_type": "stream",
     "text": [
      "              3.50     4.50     4.00     6.00     7.50     9.13    10.00    15.00\n",
      "    300 KM       10        9        8        7        6        6        5        5\n",
      "    500 KM       11       10        9        7        7        6        6        6\n",
      "   1500 KM       12       11       10        8        7        6        6        6\n",
      "   3000 KM       13       12       10        8        8        7        7        7\n",
      "   5000 KM       14       12       11        8        8        7        7        7\n"
     ]
    }
   ],
   "source": [
    "import math\n",
    "AU_IN_M=149597870700\n",
    "\n",
    "def get_distance(dist):\n",
    "    if dist > 1e9:\n",
    "        return (dist / AU_IN_M, \"AU\")\n",
    "    else:\n",
    "        return (dist/1000, \"KM\")\n",
    "\n",
    "# Warp speed in AU/s, subwarp speed in m/s, distance in m\n",
    "def calculate_time_in_warp(max_warp_speed, max_subwarp_speed, warp_dist):\n",
    "    if max_warp_speed > 8.1:\n",
    "        k_accel = max_warp_speed * 1.5\n",
    "    else:\n",
    "        k_accel = max_warp_speed\n",
    "    k_decel = min(max_warp_speed / 3, 2)\n",
    "\n",
    "    \n",
    "\n",
    "    warp_dropout_speed = min(max_subwarp_speed / 2, 100)\n",
    "    max_ms_warp_speed = max_warp_speed * AU_IN_M\n",
    "\n",
    "    accel_dist = AU_IN_M\n",
    "    decel_dist = max_ms_warp_speed / k_decel\n",
    "\n",
    "    minimum_dist = accel_dist + decel_dist\n",
    "\n",
    "    cruise_time = 0\n",
    "\n",
    "    if minimum_dist > warp_dist:\n",
    "        max_ms_warp_speed = warp_dist * k_accel * k_decel / (k_accel + k_decel)\n",
    "    else:\n",
    "        cruise_time = (warp_dist - minimum_dist) / max_ms_warp_speed\n",
    "\n",
    "    accel_time = math.log(max_ms_warp_speed / k_accel) / k_accel\n",
    "    decel_time = math.log(max_ms_warp_speed / warp_dropout_speed) / k_decel\n",
    "\n",
    "\n",
    "    total_time = cruise_time + accel_time + decel_time\n",
    "    distance = get_distance(warp_dist)\n",
    "    return total_time\n",
    "\n",
    "\n",
    "distances = [300e3,500e3,1500e3, 3000e3,5000e3]\n",
    "speeds = [3.5,4.5, 4,6,7.5,9.13,10, 15]\n",
    "\n",
    "result = {}\n",
    "# for speed in speeds:\n",
    "#     for dist in distances:\n",
    "#         result[(dist, speed)] = calculate_time_in_warp(speed, 200, dist)\n",
    "\n",
    "for speed in speeds:\n",
    "    for dist in distances:\n",
    "        result[(dist, speed)] = calculate_time_in_warp(speed, 373, dist)\n",
    "\n",
    "print(\"{:9s}\".format(\"\"), end=\"\")\n",
    "for speed in speeds:\n",
    "    print(\"{:9.2f}\".format(speed), end=\"\")\n",
    "\n",
    "\n",
    "last_dist = 1e999\n",
    "for x,y in sorted(result.keys()):\n",
    "    dist = get_distance(x)\n",
    "    if (y < last_dist):\n",
    "        print(\"\\n{:7.5n} {:s}\".format(dist[0],dist[1]), end=\"\")\n",
    "    last_dist = y\n",
    "\n",
    "    print(\"{:9.0f}\".format(math.ceil(result[x,y])), end=\"\")\n",
    "    # print(\"{:9.0f}\".format(result[x,y]), end=\"\")\n",
    "\n",
    "print()"
   ]
  },
  {
   "cell_type": "code",
   "execution_count": 7,
   "metadata": {},
   "outputs": [
    {
     "data": {
      "text/plain": [
       "6.159261858326645"
      ]
     },
     "execution_count": 7,
     "metadata": {},
     "output_type": "execute_result"
    }
   ],
   "source": [
    "sig_radius = 210\n",
    "scan_res = 178\n",
    "target_time = 40000 / (scan_res * math.asinh(sig_radius)**2)\n",
    "target_time"
   ]
  },
  {
   "cell_type": "code",
   "execution_count": null,
   "metadata": {},
   "outputs": [],
   "source": []
  }
 ],
 "metadata": {
  "kernelspec": {
   "display_name": "Python 3",
   "language": "python",
   "name": "python3"
  },
  "language_info": {
   "codemirror_mode": {
    "name": "ipython",
    "version": 3
   },
   "file_extension": ".py",
   "mimetype": "text/x-python",
   "name": "python",
   "nbconvert_exporter": "python",
   "pygments_lexer": "ipython3",
   "version": "3.9.13"
  },
  "orig_nbformat": 4,
  "vscode": {
   "interpreter": {
    "hash": "c639f3b4ffa81a1877d911bac4707d241d52c908e561914220a4b404ed0a021a"
   }
  }
 },
 "nbformat": 4,
 "nbformat_minor": 2
}
