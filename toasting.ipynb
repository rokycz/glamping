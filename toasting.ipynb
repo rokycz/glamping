{
 "cells": [
  {
   "cell_type": "code",
   "execution_count": 1,
   "metadata": {},
   "outputs": [],
   "source": [
    "import requests\n",
    "import json\n",
    "import time\n",
    "from functions import getSystemID, getRoute, getSov\n",
    "from data import island, systems, hostileAlliances"
   ]
  },
  {
   "cell_type": "code",
   "execution_count": 2,
   "metadata": {},
   "outputs": [],
   "source": [
    "allsystems = {}\n",
    "with open(\"listofsystems.dat\") as f:\n",
    "    for line in f:\n",
    "       (system_name, system_id) = line.strip(\"\\n\").split(\";\")\n",
    "       allsystems[system_id] = system_name\n"
   ]
  },
  {
   "cell_type": "code",
   "execution_count": 3,
   "metadata": {},
   "outputs": [],
   "source": [
    "sov = getSov()\n"
   ]
  },
  {
   "cell_type": "code",
   "execution_count": 4,
   "metadata": {},
   "outputs": [],
   "source": [
    "sov_systems = []\n",
    "\n",
    "for system in sov.json():\n",
    "    if \"alliance_id\" in system.keys():\n",
    "        sov_systems.append(system)\n",
    "    else:\n",
    "        pass"
   ]
  },
  {
   "cell_type": "code",
   "execution_count": 6,
   "metadata": {},
   "outputs": [
    {
     "name": "stdout",
     "output_type": "stream",
     "text": [
      "1809\n"
     ]
    }
   ],
   "source": [
    "hostileSystems = []\n",
    "\n",
    "for system in sov_systems:\n",
    "    for alliance in hostileAlliances:\n",
    "        if system[\"alliance_id\"] == alliance:\n",
    "            hostileSystems.append(system)\n",
    "print(len(hostileSystems))"
   ]
  },
  {
   "cell_type": "code",
   "execution_count": 8,
   "metadata": {},
   "outputs": [],
   "source": [
    "lowADMsystems = []\n",
    "\n",
    "for system in hostileSystems:\n",
    "    if system[\"vulnerability_occupancy_level\"] <= 2.0:\n",
    "        lowADMsystems.append(system)"
   ]
  },
  {
   "cell_type": "code",
   "execution_count": 11,
   "metadata": {},
   "outputs": [
    {
     "ename": "TypeError",
     "evalue": "unhashable type: 'dict'",
     "output_type": "error",
     "traceback": [
      "\u001b[1;31m---------------------------------------------------------------------------\u001b[0m",
      "\u001b[1;31mTypeError\u001b[0m                                 Traceback (most recent call last)",
      "\u001b[1;32mc:\\Users\\roky\\Desktop\\glamping\\toasting.ipynb buňka 9\u001b[0m in \u001b[0;36m<cell line: 3>\u001b[1;34m()\u001b[0m\n\u001b[0;32m      <a href='vscode-notebook-cell:/c%3A/Users/roky/Desktop/glamping/toasting.ipynb#W6sZmlsZQ%3D%3D?line=0'>1</a>\u001b[0m frtsystems \u001b[39m=\u001b[39m {}\n\u001b[0;32m      <a href='vscode-notebook-cell:/c%3A/Users/roky/Desktop/glamping/toasting.ipynb#W6sZmlsZQ%3D%3D?line=2'>3</a>\u001b[0m \u001b[39mfor\u001b[39;00m system \u001b[39min\u001b[39;00m hostileSystems:\n\u001b[1;32m----> <a href='vscode-notebook-cell:/c%3A/Users/roky/Desktop/glamping/toasting.ipynb#W6sZmlsZQ%3D%3D?line=3'>4</a>\u001b[0m     frtsystems[system] \u001b[39m=\u001b[39m allsystems[system]\n",
      "\u001b[1;31mTypeError\u001b[0m: unhashable type: 'dict'"
     ]
    }
   ],
   "source": [
    "frtsystems = {}\n",
    "\n",
    "for system in hostileSystems:\n",
    "    frtsystems[system] = allsystems[system]"
   ]
  },
  {
   "cell_type": "code",
   "execution_count": 16,
   "metadata": {},
   "outputs": [
    {
     "name": "stdout",
     "output_type": "stream",
     "text": [
      "failed for  30001779\n"
     ]
    },
    {
     "ename": "UnboundLocalError",
     "evalue": "local variable 'response' referenced before assignment",
     "output_type": "error",
     "traceback": [
      "\u001b[1;31m---------------------------------------------------------------------------\u001b[0m",
      "\u001b[1;31mUnboundLocalError\u001b[0m                         Traceback (most recent call last)",
      "\u001b[1;32mc:\\Users\\roky\\Desktop\\glamping\\toasting.ipynb buňka 8\u001b[0m in \u001b[0;36m<cell line: 3>\u001b[1;34m()\u001b[0m\n\u001b[0;32m      <a href='vscode-notebook-cell:/c%3A/Users/roky/Desktop/glamping/toasting.ipynb#X10sZmlsZQ%3D%3D?line=0'>1</a>\u001b[0m distance \u001b[39m=\u001b[39m {}\n\u001b[0;32m      <a href='vscode-notebook-cell:/c%3A/Users/roky/Desktop/glamping/toasting.ipynb#X10sZmlsZQ%3D%3D?line=2'>3</a>\u001b[0m \u001b[39mfor\u001b[39;00m system \u001b[39min\u001b[39;00m jovesystems:\n\u001b[1;32m----> <a href='vscode-notebook-cell:/c%3A/Users/roky/Desktop/glamping/toasting.ipynb#X10sZmlsZQ%3D%3D?line=3'>4</a>\u001b[0m         route \u001b[39m=\u001b[39m getRoute(\u001b[39m30001552\u001b[39;49m,jovesystems[system])\n\u001b[0;32m      <a href='vscode-notebook-cell:/c%3A/Users/roky/Desktop/glamping/toasting.ipynb#X10sZmlsZQ%3D%3D?line=4'>5</a>\u001b[0m         \u001b[39m# print(system,route)\u001b[39;00m\n\u001b[0;32m      <a href='vscode-notebook-cell:/c%3A/Users/roky/Desktop/glamping/toasting.ipynb#X10sZmlsZQ%3D%3D?line=5'>6</a>\u001b[0m         \u001b[39mif\u001b[39;00m \u001b[39mlen\u001b[39m(route) \u001b[39m<\u001b[39m \u001b[39m5\u001b[39m:\n",
      "File \u001b[1;32mc:\\Users\\roky\\Desktop\\glamping\\functions.py:24\u001b[0m, in \u001b[0;36mgetRoute\u001b[1;34m(current_system, jove_obs_system)\u001b[0m\n\u001b[0;32m     21\u001b[0m     \u001b[39mexcept\u001b[39;00m:\n\u001b[0;32m     22\u001b[0m         \u001b[39mprint\u001b[39m(\u001b[39m\"\u001b[39m\u001b[39mfailed for \u001b[39m\u001b[39m\"\u001b[39m, jove_obs_system)\n\u001b[1;32m---> 24\u001b[0m \u001b[39mreturn\u001b[39;00m(response\u001b[39m.\u001b[39mjson())\n",
      "\u001b[1;31mUnboundLocalError\u001b[0m: local variable 'response' referenced before assignment"
     ]
    }
   ],
   "source": [
    "distance = {}\n",
    "\n",
    "for system in jovesystems:\n",
    "        route = getRoute(30001552,jovesystems[system])\n",
    "        # print(system,route)\n",
    "        if len(route) < 5:\n",
    "            distance[system] = len(route) - 1\n",
    "            print(system,route)\n"
   ]
  },
  {
   "cell_type": "code",
   "execution_count": null,
   "metadata": {},
   "outputs": [],
   "source": [
    "for d in sorted(distance):\n",
    "    if distance[d] < 6 and distance[d] != 0:\n",
    "        print(d)"
   ]
  },
  {
   "cell_type": "code",
   "execution_count": null,
   "metadata": {},
   "outputs": [],
   "source": []
  }
 ],
 "metadata": {
  "kernelspec": {
   "display_name": "Python 3",
   "language": "python",
   "name": "python3"
  },
  "language_info": {
   "codemirror_mode": {
    "name": "ipython",
    "version": 3
   },
   "file_extension": ".py",
   "mimetype": "text/x-python",
   "name": "python",
   "nbconvert_exporter": "python",
   "pygments_lexer": "ipython3",
   "version": "3.9.13"
  },
  "orig_nbformat": 4,
  "vscode": {
   "interpreter": {
    "hash": "c639f3b4ffa81a1877d911bac4707d241d52c908e561914220a4b404ed0a021a"
   }
  }
 },
 "nbformat": 4,
 "nbformat_minor": 2
}
