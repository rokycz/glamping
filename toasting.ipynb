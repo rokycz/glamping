{
 "cells": [
  {
   "cell_type": "code",
   "execution_count": 1,
   "metadata": {},
   "outputs": [],
   "source": [
    "import requests\n",
    "import json\n",
    "import time\n",
    "from functions import getSystemID, getRoute, getSov\n",
    "from data import island, systems, hostileAlliances"
   ]
  },
  {
   "cell_type": "code",
   "execution_count": 2,
   "metadata": {},
   "outputs": [],
   "source": [
    "allsystems = {}\n",
    "with open(\"listofsystems.dat\") as f:\n",
    "    for line in f:\n",
    "       (system_name, system_id) = line.strip(\"\\n\").split(\";\")\n",
    "       allsystems[system_id] = system_name\n"
   ]
  },
  {
   "cell_type": "code",
   "execution_count": 3,
   "metadata": {},
   "outputs": [],
   "source": [
    "sov = getSov()\n"
   ]
  },
  {
   "cell_type": "code",
   "execution_count": 4,
   "metadata": {},
   "outputs": [],
   "source": [
    "sov_systems = []\n",
    "\n",
    "for system in sov.json():\n",
    "    if \"alliance_id\" in system.keys():\n",
    "        sov_systems.append(system)\n",
    "    else:\n",
    "        pass"
   ]
  },
  {
   "cell_type": "code",
   "execution_count": 5,
   "metadata": {},
   "outputs": [
    {
     "name": "stdout",
     "output_type": "stream",
     "text": [
      "770\n"
     ]
    }
   ],
   "source": [
    "hostileSystems = []\n",
    "\n",
    "for system in sov_systems:\n",
    "    for alliance in hostileAlliances:\n",
    "        if system[\"alliance_id\"] == alliance:\n",
    "            hostileSystems.append(system)\n",
    "print(len(hostileSystems))"
   ]
  },
  {
   "cell_type": "code",
   "execution_count": 14,
   "metadata": {},
   "outputs": [
    {
     "name": "stdout",
     "output_type": "stream",
     "text": [
      "{'alliance_id': 99005338, 'solar_system_id': 30002857, 'structure_id': 1027768040650, 'structure_type_id': 32226, 'vulnerability_occupancy_level': 4.5, 'vulnerable_end_time': '2024-01-04T22:00:00Z', 'vulnerable_start_time': '2024-01-04T18:00:00Z'}\n"
     ]
    }
   ],
   "source": [
    "print(hostileSystems[30])"
   ]
  },
  {
   "cell_type": "code",
   "execution_count": 9,
   "metadata": {},
   "outputs": [],
   "source": [
    "lowADMsystems = []\n",
    "reinforced_systems = []\n",
    "for system in hostileSystems:\n",
    "    try:\n",
    "        if system[\"vulnerability_occupancy_level\"] <= 2.0:\n",
    "            lowADMsystems.append(system)\n",
    "    \n",
    "        \n",
    "    except:\n",
    "        reinforced_systems.append(system)\n",
    "        # wtf = wtf + 1\n",
    "        # print(wtf)"
   ]
  },
  {
   "cell_type": "code",
   "execution_count": 10,
   "metadata": {},
   "outputs": [
    {
     "name": "stdout",
     "output_type": "stream",
     "text": [
      "{'alliance_id': 99005338, 'solar_system_id': 30004178, 'structure_id': 1031897661974, 'structure_type_id': 32458}\n",
      "{'alliance_id': 99005338, 'solar_system_id': 30004206, 'structure_id': 1037912124165, 'structure_type_id': 32458}\n",
      "{'alliance_id': 99005338, 'solar_system_id': 30004200, 'structure_id': 1038081665240, 'structure_type_id': 32458}\n",
      "{'alliance_id': 99005338, 'solar_system_id': 30004203, 'structure_id': 1038081679003, 'structure_type_id': 32458}\n",
      "{'alliance_id': 99005338, 'solar_system_id': 30004202, 'structure_id': 1038081689605, 'structure_type_id': 32458}\n",
      "{'alliance_id': 99005338, 'solar_system_id': 30004201, 'structure_id': 1038081726602, 'structure_type_id': 32458}\n",
      "{'alliance_id': 99005338, 'solar_system_id': 30001989, 'structure_id': 1041103670823, 'structure_type_id': 32458}\n",
      "{'alliance_id': 99005338, 'solar_system_id': 30001987, 'structure_id': 1043405121699, 'structure_type_id': 32458}\n",
      "{'alliance_id': 99005338, 'solar_system_id': 30001986, 'structure_id': 1043425864987, 'structure_type_id': 32458}\n",
      "{'alliance_id': 99005338, 'solar_system_id': 30001160, 'structure_id': 1043882732417, 'structure_type_id': 32458}\n"
     ]
    }
   ],
   "source": [
    "for system in reinforced_systems:\n",
    "    print(system)"
   ]
  },
  {
   "cell_type": "code",
   "execution_count": 11,
   "metadata": {},
   "outputs": [
    {
     "name": "stdout",
     "output_type": "stream",
     "text": [
      "40\n"
     ]
    }
   ],
   "source": [
    "print(len(lowADMsystems))"
   ]
  },
  {
   "cell_type": "code",
   "execution_count": 12,
   "metadata": {},
   "outputs": [
    {
     "ename": "TypeError",
     "evalue": "unhashable type: 'dict'",
     "output_type": "error",
     "traceback": [
      "\u001b[1;31m---------------------------------------------------------------------------\u001b[0m",
      "\u001b[1;31mTypeError\u001b[0m                                 Traceback (most recent call last)",
      "Input \u001b[1;32mIn [12]\u001b[0m, in \u001b[0;36m<cell line: 3>\u001b[1;34m()\u001b[0m\n\u001b[0;32m      1\u001b[0m frtsystems \u001b[38;5;241m=\u001b[39m {}\n\u001b[0;32m      3\u001b[0m \u001b[38;5;28;01mfor\u001b[39;00m system \u001b[38;5;129;01min\u001b[39;00m hostileSystems:\n\u001b[1;32m----> 4\u001b[0m     frtsystems[system] \u001b[38;5;241m=\u001b[39m \u001b[43mallsystems\u001b[49m\u001b[43m[\u001b[49m\u001b[43msystem\u001b[49m\u001b[43m]\u001b[49m\n",
      "\u001b[1;31mTypeError\u001b[0m: unhashable type: 'dict'"
     ]
    }
   ],
   "source": [
    "frtsystems = {}\n",
    "\n",
    "for system in hostileSystems:\n",
    "    frtsystems[system] = allsystems[system]"
   ]
  },
  {
   "cell_type": "code",
   "execution_count": 16,
   "metadata": {},
   "outputs": [
    {
     "name": "stdout",
     "output_type": "stream",
     "text": [
      "failed for  30001779\n"
     ]
    },
    {
     "ename": "UnboundLocalError",
     "evalue": "local variable 'response' referenced before assignment",
     "output_type": "error",
     "traceback": [
      "\u001b[1;31m---------------------------------------------------------------------------\u001b[0m",
      "\u001b[1;31mUnboundLocalError\u001b[0m                         Traceback (most recent call last)",
      "\u001b[1;32mc:\\Users\\roky\\Desktop\\glamping\\toasting.ipynb buňka 8\u001b[0m in \u001b[0;36m<cell line: 3>\u001b[1;34m()\u001b[0m\n\u001b[0;32m      <a href='vscode-notebook-cell:/c%3A/Users/roky/Desktop/glamping/toasting.ipynb#X10sZmlsZQ%3D%3D?line=0'>1</a>\u001b[0m distance \u001b[39m=\u001b[39m {}\n\u001b[0;32m      <a href='vscode-notebook-cell:/c%3A/Users/roky/Desktop/glamping/toasting.ipynb#X10sZmlsZQ%3D%3D?line=2'>3</a>\u001b[0m \u001b[39mfor\u001b[39;00m system \u001b[39min\u001b[39;00m jovesystems:\n\u001b[1;32m----> <a href='vscode-notebook-cell:/c%3A/Users/roky/Desktop/glamping/toasting.ipynb#X10sZmlsZQ%3D%3D?line=3'>4</a>\u001b[0m         route \u001b[39m=\u001b[39m getRoute(\u001b[39m30001552\u001b[39;49m,jovesystems[system])\n\u001b[0;32m      <a href='vscode-notebook-cell:/c%3A/Users/roky/Desktop/glamping/toasting.ipynb#X10sZmlsZQ%3D%3D?line=4'>5</a>\u001b[0m         \u001b[39m# print(system,route)\u001b[39;00m\n\u001b[0;32m      <a href='vscode-notebook-cell:/c%3A/Users/roky/Desktop/glamping/toasting.ipynb#X10sZmlsZQ%3D%3D?line=5'>6</a>\u001b[0m         \u001b[39mif\u001b[39;00m \u001b[39mlen\u001b[39m(route) \u001b[39m<\u001b[39m \u001b[39m5\u001b[39m:\n",
      "File \u001b[1;32mc:\\Users\\roky\\Desktop\\glamping\\functions.py:24\u001b[0m, in \u001b[0;36mgetRoute\u001b[1;34m(current_system, jove_obs_system)\u001b[0m\n\u001b[0;32m     21\u001b[0m     \u001b[39mexcept\u001b[39;00m:\n\u001b[0;32m     22\u001b[0m         \u001b[39mprint\u001b[39m(\u001b[39m\"\u001b[39m\u001b[39mfailed for \u001b[39m\u001b[39m\"\u001b[39m, jove_obs_system)\n\u001b[1;32m---> 24\u001b[0m \u001b[39mreturn\u001b[39;00m(response\u001b[39m.\u001b[39mjson())\n",
      "\u001b[1;31mUnboundLocalError\u001b[0m: local variable 'response' referenced before assignment"
     ]
    }
   ],
   "source": [
    "distance = {}\n",
    "\n",
    "for system in jovesystems:\n",
    "        route = getRoute(30001552,jovesystems[system])\n",
    "        # print(system,route)\n",
    "        if len(route) < 5:\n",
    "            distance[system] = len(route) - 1\n",
    "            print(system,route)\n"
   ]
  },
  {
   "cell_type": "code",
   "execution_count": null,
   "metadata": {},
   "outputs": [],
   "source": [
    "for d in sorted(distance):\n",
    "    if distance[d] < 6 and distance[d] != 0:\n",
    "        print(d)"
   ]
  },
  {
   "cell_type": "code",
   "execution_count": null,
   "metadata": {},
   "outputs": [],
   "source": []
  }
 ],
 "metadata": {
  "kernelspec": {
   "display_name": "Python 3",
   "language": "python",
   "name": "python3"
  },
  "language_info": {
   "codemirror_mode": {
    "name": "ipython",
    "version": 3
   },
   "file_extension": ".py",
   "mimetype": "text/x-python",
   "name": "python",
   "nbconvert_exporter": "python",
   "pygments_lexer": "ipython3",
   "version": "3.9.undefined"
  },
  "orig_nbformat": 4,
  "vscode": {
   "interpreter": {
    "hash": "c639f3b4ffa81a1877d911bac4707d241d52c908e561914220a4b404ed0a021a"
   }
  }
 },
 "nbformat": 4,
 "nbformat_minor": 2
}
