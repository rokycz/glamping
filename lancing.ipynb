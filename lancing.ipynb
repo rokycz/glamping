{
 "cells": [
  {
   "cell_type": "code",
   "execution_count": null,
   "metadata": {},
   "outputs": [],
   "source": [
    "def calculateMultiplier(multipliers):\n",
    "    \"\"\"\n",
    "    multipliers: dictionary in format:\n",
    "    {stacking group name: [(mult, resist attr ID), (mult, resist attr ID)]}\n",
    "    \"\"\"\n",
    "    val = 1\n",
    "    for penalizedMultipliers in multipliers.values():\n",
    "        # A quick explanation of how this works:\n",
    "        # 1: Bonuses and penalties are calculated seperately, so we'll have to filter each of them\n",
    "        l1 = [v[0] for v in penalizedMultipliers if v[0] > 1]\n",
    "        l2 = [v[0] for v in penalizedMultipliers if v[0] < 1]\n",
    "        # 2: The most significant bonuses take the smallest penalty,\n",
    "        # This means we'll have to sort\n",
    "        abssort = lambda _val: -abs(_val - 1)\n",
    "        l1.sort(key=abssort)\n",
    "        l2.sort(key=abssort)\n",
    "        # 3: The first module doesn't get penalized at all\n",
    "        # Any module after the first takes penalties according to:\n",
    "        # 1 + (multiplier - 1) * math.exp(- math.pow(i, 2) / 7.1289)\n",
    "        for l in (l1, l2):\n",
    "            for i in range(len(l)):\n",
    "                bonus = l[i]\n",
    "                val *= 1 + (bonus - 1) * math.exp(- i ** 2 / 7.1289)\n",
    "    return val"
   ]
  },
  {
   "cell_type": "code",
   "execution_count": null,
   "metadata": {},
   "outputs": [],
   "source": []
  }
 ],
 "metadata": {
  "language_info": {
   "name": "python"
  }
 },
 "nbformat": 4,
 "nbformat_minor": 2
}
