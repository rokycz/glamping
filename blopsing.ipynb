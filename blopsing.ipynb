{
 "cells": [
  {
   "cell_type": "code",
   "execution_count": 1,
   "metadata": {},
   "outputs": [],
   "source": [
    "# 20000787 - Krai Perun\n",
    "# 20000788 - Krai Svarog\n",
    "# 20000789 - Krai Veles"
   ]
  },
  {
   "cell_type": "code",
   "execution_count": 2,
   "metadata": {},
   "outputs": [
    {
     "data": {
      "text/plain": [
       "['regionID',\n",
       " 'constellationID',\n",
       " 'solarSystemID',\n",
       " 'solarSystemName',\n",
       " 'x',\n",
       " 'y',\n",
       " 'z',\n",
       " 'xMin',\n",
       " 'xMax',\n",
       " 'yMin',\n",
       " 'yMax',\n",
       " 'zMin',\n",
       " 'zMax',\n",
       " 'luminosity',\n",
       " 'border',\n",
       " 'fringe',\n",
       " 'corridor',\n",
       " 'hub',\n",
       " 'international',\n",
       " 'regional',\n",
       " 'constellation',\n",
       " 'security',\n",
       " 'factionID',\n",
       " 'radius',\n",
       " 'sunTypeID',\n",
       " 'securityClass']"
      ]
     },
     "execution_count": 2,
     "metadata": {},
     "output_type": "execute_result"
    }
   ],
   "source": [
    "import numpy as np\n",
    "import csv\n",
    "\n",
    "def distance(system1, system2):\n",
    "    ly = 9460730472580800\n",
    "    pos1 = np.array([float(system1[4]),float(system1[5]),float(system1[6])])\n",
    "    pos2 = np.array([float(system2[4]),float(system2[5]),float(system2[6])])\n",
    "    return(np.sqrt(np.sum((pos1-pos2)**2, axis=0))/ly)\n",
    "\n",
    "\n",
    "\n",
    "# p1 = np.array([-325541962838476032.0000000000,70709080775074304.0000000000,-205997396489519008.0000000000])\n",
    "# p2 = np.array([-307642533902446976.0000000000,89877695509328096.0000000000,-207234123525640992.0000000000])\n",
    "\n",
    "# squared_dist = np.sum((pos1-pos2)**2, axis=0)\n",
    "# dist = np.sqrt(squared_dist)\n",
    " \n",
    " \n",
    "with open(\"mapSolarSystems.csv\", 'r') as x:\n",
    "    data = list(csv.reader(x, delimiter=\",\"))\n",
    "\n",
    "data.pop(0)\n",
    " \n"
   ]
  },
  {
   "cell_type": "code",
   "execution_count": 3,
   "metadata": {},
   "outputs": [],
   "source": [
    "lowNullSec = []\n",
    "kraiVeles = []\n",
    "kraiSvarog = []\n",
    "kraiPerun = []\n",
    "for line in data:\n",
    "    if float(line[1]) == 20000787:\n",
    "        kraiPerun.append(line)\n",
    "    elif float(line[1]) == 20000788:\n",
    "        kraiSvarog.append(line)\n",
    "    elif float(line[1]) == 20000789:\n",
    "        kraiVeles.append(line)\n",
    "    elif float(line[-5]) < 0.5:\n",
    "        lowNullSec.append(line)\n"
   ]
  },
  {
   "cell_type": "code",
   "execution_count": 4,
   "metadata": {},
   "outputs": [],
   "source": [
    "# systInRangeVeles = []\n",
    "# systInRangeSvarog = []\n",
    "systInRangePerun = {}"
   ]
  },
  {
   "cell_type": "code",
   "execution_count": 7,
   "metadata": {},
   "outputs": [],
   "source": [
    "# for system in lowNullSec:\n",
    "#     inRange = True\n",
    "#     for poch in kraiPerun:\n",
    "#         if distance(system, poch) > 8:\n",
    "#             inRange = False\n",
    "#             break\n",
    "#     if inRange == True:\n",
    "#         systInRangePerun.append(system)\n",
    "\n",
    "# for system in lowNullSec:\n",
    "#     inRange = True\n",
    "#     for poch in kraiSvarog:\n",
    "#         if distance(system, poch) > 8:\n",
    "#             inRange = False\n",
    "#             break\n",
    "#     if inRange == True:\n",
    "#         systInRangePerun.append(system)\n",
    "\n",
    "for system in lowNullSec:\n",
    "    # inRange = False\n",
    "    systInRangePerun[system[3]] = []\n",
    "    # pochSystemsInRange = []\n",
    "    # print(system[3])\n",
    "    for poch in kraiVeles:\n",
    "        if distance(system, poch) <= 8.0:\n",
    "            \n",
    "                \n",
    "            # print(distance(system, poch))\n",
    "            # print(system[3], \" not in range of \", poch[3])\n",
    "            # pochSystemsInRange.append(poch[3])\n",
    "            # print[system[3]]\n",
    "            systInRangePerun[system[3]].append(poch[3])\n",
    "            # inRange = True\n",
    "    \n",
    "      \n",
    "            \n",
    "    if systInRangePerun[system[3]] == []:\n",
    "        systInRangePerun.pop(system[3])\n",
    "\n",
    "        # else:\n",
    "        #     print(distance(system, poch))\n",
    "    # if inRange == True:\n",
    "    #     systInRangePerun[system] = pochSystemsInRange"
   ]
  },
  {
   "cell_type": "code",
   "execution_count": 8,
   "metadata": {},
   "outputs": [
    {
     "name": "stdout",
     "output_type": "stream",
     "text": [
      "{'Maila': ['Wirashoda', 'Senda'], 'Akora': ['Wirashoda', 'Senda'], 'Messoya': ['Senda'], 'Ihakana': ['Wirashoda', 'Senda'], 'Otitoh': ['Wirashoda', 'Senda'], 'Otomainen': ['Wirashoda', 'Senda'], 'Uminas': ['Wirashoda', 'Senda'], 'Oijanen': ['Wirashoda', 'Senda'], 'Vasala': ['Wirashoda', 'Arvasaras', 'Senda'], 'Walvalin': ['Wirashoda', 'Arvasaras', 'Senda'], 'Otsela': ['Wirashoda', 'Arvasaras', 'Senda'], 'Uchoshi': ['Wirashoda', 'Arvasaras', 'Senda'], 'Mastakomon': ['Wirashoda', 'Arvasaras', 'Senda'], 'Eruka': ['Wirashoda', 'Arvasaras', 'Senda'], 'Ohkunen': ['Wirashoda', 'Arvasaras', 'Senda'], 'Obe': ['Wirashoda', 'Arvasaras', 'Senda'], 'Osaa': ['Wirashoda', 'Arvasaras', 'Senda'], 'LZ-6SU': ['Wirashoda'], 'MC6O-F': ['Wirashoda'], 'U54-1L': ['Wirashoda'], 'B-588R': ['Wirashoda'], 'NCGR-Q': ['Wirashoda'], 'G-LOIT': ['Wirashoda'], 'HE-V4V': ['Wirashoda'], 'N-HSK0': ['Wirashoda', 'Arvasaras'], '05R-7A': ['Wirashoda', 'Arvasaras'], '7-UH4Z': ['Wirashoda', 'Arvasaras'], '5ZO-NZ': ['Wirashoda', 'Arvasaras'], 'FS-RFL': ['Wirashoda', 'Arvasaras'], 'Y0-BVN': ['Wirashoda', 'Arvasaras'], 'X97D-W': ['Wirashoda', 'Arvasaras'], '0-R5TS': ['Wirashoda'], 'H-UCD1': ['Wirashoda'], '7-K5EL': ['Wirashoda'], 'H-5GUI': ['Wirashoda'], 'FH-TTC': ['Wirashoda'], 'FMBR-8': ['Wirashoda'], 'UH-9ZG': ['Wirashoda'], 'WBR5-R': ['Wirashoda'], '4GYV-Q': ['Wirashoda'], '4-HWWF': ['Wirashoda'], 'YMJG-4': ['Wirashoda'], '8TPX-N': ['Wirashoda'], 'PM-DWE': ['Wirashoda'], 'K8X-6B': ['Wirashoda', 'Arvasaras'], 'X445-5': ['Wirashoda', 'Arvasaras'], 'KRUN-N': ['Wirashoda', 'Arvasaras'], '9OO-LH': ['Wirashoda'], 'V-OJEN': ['Wirashoda', 'Arvasaras'], 'EIDI-N': ['Wirashoda'], 'P3EN-E': ['Wirashoda', 'Arvasaras'], '49-0LI': ['Wirashoda', 'Arvasaras'], 'IPAY-2': ['Wirashoda', 'Arvasaras'], 'DAYP-G': ['Wirashoda', 'Arvasaras'], 'IFJ-EL': ['Wirashoda'], '47L-J4': ['Wirashoda'], 'Q-L07F': ['Wirashoda'], 'E-D0VZ': ['Wirashoda'], '6WW-28': ['Wirashoda'], 'A8A-JN': ['Wirashoda', 'Arvasaras'], 'S-NJBB': ['Wirashoda', 'Arvasaras'], 'TVN-FM': ['Wirashoda'], 'H-NOU5': ['Wirashoda'], 'KX-2UI': ['Wirashoda'], '97-M96': ['Wirashoda'], 'C-J7CR': ['Wirashoda'], 'Q-EHMJ': ['Wirashoda'], 'XSQ-TF': ['Wirashoda'], 'H-1EOH': ['Wirashoda'], '669-IX': ['Wirashoda'], '0R-F2F': ['Wirashoda'], 'R-P7KL': ['Wirashoda'], '2DWM-2': ['Wirashoda'], 'XF-PWO': ['Wirashoda'], '1N-FJ8': ['Wirashoda'], 'E-OGL4': ['Wirashoda', 'Arvasaras'], 'J-GAMP': ['Wirashoda', 'Arvasaras'], 'M-OEE8': ['Wirashoda', 'Arvasaras'], 'V0DF-2': ['Arvasaras'], 'FY0W-N': ['Arvasaras'], 'MJI3-8': ['Arvasaras'], 'GKP-YT': ['Arvasaras'], '15W-GC': ['Arvasaras'], 'C2X-M5': ['Arvasaras'], 'MSHD-4': ['Wirashoda', 'Arvasaras'], 'PBD-0G': ['Arvasaras'], 'L-1HKR': ['Arvasaras'], '9GI-FB': ['Arvasaras'], 'L-VXTK': ['Arvasaras'], 'C8VC-S': ['Arvasaras'], 'Dantumi': ['Wirashoda', 'Arvasaras', 'Kaunokka', 'Ichoriya'], 'Aurohunen': ['Wirashoda', 'Arvasaras', 'Kaunokka', 'Ichoriya'], 'Raussinen': ['Wirashoda', 'Arvasaras', 'Kaunokka', 'Senda', 'Ichoriya'], 'Akonoinen': ['Wirashoda', 'Arvasaras', 'Kaunokka', 'Senda', 'Ichoriya'], 'Vaajaita': ['Wirashoda', 'Arvasaras', 'Kaunokka', 'Senda', 'Ichoriya'], 'Autaris': ['Wirashoda', 'Arvasaras', 'Kaunokka', 'Senda'], 'Jan': ['Wirashoda', 'Arvasaras', 'Kaunokka', 'Senda'], 'Mara': ['Wirashoda', 'Arvasaras', 'Kaunokka', 'Ichoriya'], 'Pakkonen': ['Arvasaras', 'Kaunokka', 'Ichoriya'], 'Aunenen': ['Arvasaras', 'Kaunokka', 'Ichoriya'], 'Litiura': ['Arvasaras', 'Kaunokka', 'Ichoriya'], 'Passari': ['Wirashoda', 'Arvasaras', 'Kaunokka', 'Ichoriya'], 'Atai': ['Arvasaras', 'Ichoriya'], 'Daras': ['Arvasaras', 'Ichoriya'], 'Iitanmadan': ['Ichoriya'], 'Oishami': ['Ichoriya'], 'Ohbochi': ['Ichoriya'], 'Isie': ['Ichoriya'], 'Tamo': ['Ichoriya'], 'Nannaras': ['Ichoriya'], 'Anin': ['Ichoriya'], 'Karjataimon': ['Ichoriya'], 'Tartoken': ['Ichoriya'], 'Saranen': ['Ichoriya'], 'Oimmo': ['Wirashoda', 'Arvasaras', 'Kaunokka', 'Ichoriya'], 'Otsasai': ['Wirashoda', 'Arvasaras', 'Kaunokka', 'Ichoriya'], 'Taisy': ['Wirashoda', 'Arvasaras', 'Kaunokka'], 'Hakonen': ['Wirashoda', 'Arvasaras', 'Kaunokka'], 'EC-P8R': ['Ichoriya'], 'EWOK-K': ['Ichoriya'], 'O-N8XZ': ['Ichoriya'], 'G-M4I8': ['Ichoriya'], 'MI6O-6': ['Ichoriya'], '93PI-4': ['Ichoriya'], 'CR-AQH': ['Ichoriya'], 'OE-9UF': ['Ichoriya'], 'PFU-LH': ['Ichoriya'], 'Hagilur': ['Senda'], 'Anher': ['Senda'], 'Ragnarg': ['Senda'], 'Amo': ['Ala', 'Archee', 'Senda'], 'Resbroko': ['Ala', 'Archee', 'Senda'], 'Hadozeko': ['Ala', 'Archee', 'Senda'], 'Ardar': ['Ala', 'Archee', 'Senda'], 'Auner': ['Ala', 'Archee', 'Senda'], 'Tvink': ['Ala', 'Archee', 'Senda'], 'Lanngisi': ['Ala', 'Archee', 'Kaunokka', 'Senda'], 'Dudreda': ['Senda'], 'Hakisalki': ['Ala'], 'Arwa': ['Ala'], 'Arifsdald': ['Ala'], 'Ansen': ['Ala', 'Angymonne'], 'Floseswin': ['Ala', 'Archee', 'Senda'], 'Uisper': ['Ala', 'Archee'], 'Aset': ['Ala', 'Archee'], 'Eytjangard': ['Ala', 'Archee', 'Angymonne'], 'Turnur': ['Ala', 'Archee'], 'Isbrabata': ['Ala', 'Archee'], 'Vimeini': ['Ala', 'Archee'], 'Avenod': ['Ala', 'Archee', 'Angymonne'], 'Frerstorn': ['Ala', 'Archee'], 'Ontorn': ['Ala', 'Archee'], 'Sirekur': ['Ala', 'Archee'], 'Gebuladi': ['Ala', 'Archee'], 'Ebolfer': ['Ala', 'Archee'], 'Eszur': ['Ala', 'Archee'], 'Hofjaldgund': ['Ala', 'Archee'], 'Klogori': ['Ala', 'Archee'], 'Orfrold': ['Ala'], 'Egmar': ['Ala'], 'Taff': ['Ala'], 'Ualkin': ['Ala', 'Archee'], 'Gukarla': ['Ala', 'Archee', 'Angymonne'], 'MR4-MY': ['Wirashoda'], 'SR-KBB': ['Wirashoda'], 'FDZ4-A': ['Wirashoda'], '2E-ZR5': ['Wirashoda'], 'Roua': ['Wirashoda'], 'M-MD31': ['Wirashoda'], 'WH-2EZ': ['Wirashoda'], 'QKTR-L': ['Wirashoda'], 'L4X-FH': ['Wirashoda'], 'B6-52M': ['Wirashoda'], 'NQ-9IH': ['Wirashoda'], 'KR-V6G': ['Wirashoda'], 'AP9-LV': ['Wirashoda'], '0-GZX9': ['Wirashoda'], '2H-TSE': ['Wirashoda'], '4NGK-F': ['Wirashoda'], 'TZL-WT': ['Wirashoda'], '4K0N-J': ['Wirashoda'], 'Dammalin': ['Ala', 'Archee'], 'Bosboger': ['Ala', 'Archee'], 'Olfeim': ['Ala', 'Archee'], 'Lulm': ['Ala', 'Archee'], 'Gulmorogod': ['Ala', 'Archee'], 'Amamake': ['Ala', 'Archee'], 'Vard': ['Ala', 'Archee'], 'Siseide': ['Ala', 'Archee'], 'Lantorn': ['Ala', 'Archee'], 'Dal': ['Ala', 'Archee'], 'Auga': ['Ala', 'Archee'], 'Balle': ['Ala', 'Archee', 'Kaunokka', 'Angymonne', 'Vale', 'Senda'], 'Decon': ['Ala', 'Archee', 'Angymonne', 'Vale'], 'Sharuveil': ['Ala', 'Archee', 'Angymonne', 'Vale'], 'Carrou': ['Kaunokka', 'Vale', 'Senda'], 'Ignoitton': ['Kaunokka', 'Vale', 'Senda'], 'Ney': ['Ala', 'Archee', 'Angymonne', 'Vale'], 'Fasse': ['Ala', 'Archee', 'Angymonne'], 'Gratesier': ['Ala', 'Archee', 'Angymonne'], 'Schoorasana': ['Ala', 'Archee', 'Angymonne'], 'Basgerin': ['Ala', 'Archee', 'Angymonne', 'Vale'], 'Barmalie': ['Ala', 'Archee', 'Angymonne', 'Vale', 'Senda'], 'Audaerne': ['Ala', 'Archee', 'Angymonne', 'Vale', 'Senda'], 'Olettiers': ['Ala', 'Archee', 'Kaunokka', 'Angymonne', 'Vale', 'Senda'], 'Artisine': ['Archee', 'Kaunokka', 'Angymonne', 'Vale', 'Senda'], 'Bamiette': ['Kaunokka', 'Angymonne', 'Vale', 'Senda'], 'Crielere': ['Archee', 'Kaunokka', 'Vale', 'Senda'], 'Egghelende': ['Ala', 'Archee', 'Angymonne', 'Vale'], 'Odette': ['Ala', 'Archee', 'Angymonne', 'Vale'], 'Stegette': ['Ala', 'Archee', 'Angymonne', 'Vale'], 'Ravarin': ['Ala', 'Archee', 'Angymonne'], 'Aliette': ['Ala', 'Archee', 'Angymonne'], 'Adrallezoen': ['Ala', 'Archee', 'Angymonne', 'Vale'], 'Rancer': ['Kaunokka', 'Vale', 'Senda'], 'Miroitem': ['Kaunokka', 'Senda'], 'Thelan': ['Senda'], 'Lamadent': ['Kaunokka', 'Senda'], 'Otou': ['Kaunokka', 'Senda'], 'Goinard': ['Ala', 'Archee', 'Angymonne', 'Vale'], 'Raeghoscon': ['Ala', 'Archee', 'Angymonne', 'Vale'], 'Allipes': ['Ala', 'Archee', 'Angymonne', 'Vale'], 'Lermireve': ['Ala', 'Archee', 'Angymonne', 'Vale'], 'Aetree': ['Ala', 'Archee', 'Angymonne', 'Vale'], 'Esmes': ['Ala', 'Archee', 'Vale'], 'Horkkisen': ['Wirashoda', 'Arvasaras', 'Kaunokka', 'Senda'], 'Erila': ['Wirashoda', 'Arvasaras', 'Kaunokka', 'Senda'], 'Ishomilken': ['Wirashoda', 'Arvasaras', 'Kaunokka', 'Senda', 'Ichoriya'], 'Nikkishina': ['Wirashoda', 'Arvasaras', 'Kaunokka', 'Senda', 'Ichoriya'], 'Hasama': ['Wirashoda', 'Arvasaras', 'Kaunokka', 'Ichoriya'], 'Uuna': ['Wirashoda', 'Arvasaras', 'Kaunokka', 'Senda', 'Ichoriya'], 'Manjonakko': ['Arvasaras', 'Kaunokka', 'Senda', 'Ichoriya'], 'Kubinen': ['Arvasaras', 'Kaunokka', 'Vale', 'Senda'], 'Enderailen': ['Arvasaras', 'Kaunokka', 'Vale', 'Senda', 'Ichoriya'], 'Kulelen': ['Arvasaras', 'Kaunokka', 'Senda', 'Ichoriya'], 'Inari': ['Wirashoda', 'Kaunokka', 'Senda'], 'Oshaima': ['Arvasaras', 'Kaunokka', 'Vale', 'Senda', 'Ichoriya'], 'Hysera': ['Arvasaras', 'Kaunokka', 'Vale', 'Senda', 'Ichoriya'], 'Hasmijaala': ['Arvasaras', 'Kaunokka', 'Vale', 'Senda', 'Ichoriya'], 'Nagamanen': ['Arvasaras', 'Kaunokka', 'Vale', 'Senda', 'Ichoriya'], 'Oto': ['Arvasaras', 'Kaunokka', 'Senda', 'Ichoriya'], 'Sujarento': ['Arvasaras', 'Kaunokka', 'Vale', 'Senda', 'Ichoriya'], 'Eranakko': ['Arvasaras', 'Kaunokka', 'Vale', 'Senda', 'Ichoriya'], 'Onatoh': ['Arvasaras', 'Kaunokka', 'Senda', 'Ichoriya'], 'Tannolen': ['Arvasaras', 'Kaunokka', 'Senda', 'Ichoriya'], 'Tama': ['Arvasaras', 'Kaunokka', 'Senda', 'Ichoriya'], 'Aramachi': ['Wirashoda', 'Arvasaras', 'Kaunokka', 'Senda', 'Ichoriya'], 'Tzvi': ['Ala', 'Archee'], 'Raa': ['Ala', 'Archee'], 'Sifilar': ['Ala', 'Archee'], 'Arzad': ['Ala', 'Archee'], 'Oyeman': ['Ala', 'Archee'], 'Ezzara': ['Ala', 'Archee'], 'Roushzar': ['Ala', 'Archee'], 'Labapi': ['Ala', 'Archee'], 'Arayar': ['Ala', 'Archee'], 'Asghed': ['Ala', 'Archee'], 'Tararan': ['Ala', 'Archee'], 'Sosan': ['Ala', 'Archee'], 'Halmah': ['Ala', 'Archee'], 'Palpis': ['Ala', 'Archee'], 'Mya': ['Ala', 'Archee', 'Angymonne', 'Vale'], 'Gerper': ['Ala', 'Archee', 'Angymonne', 'Vale'], 'Alachene': ['Ala', 'Archee', 'Angymonne', 'Vale'], 'Elarel': ['Ala', 'Archee', 'Angymonne', 'Vale'], 'Groothese': ['Ala', 'Archee', 'Angymonne', 'Vale'], 'Adeel': ['Ala', 'Archee', 'Angymonne', 'Vale'], 'Mannar': ['Ala', 'Angymonne', 'Vale'], 'Mormelot': ['Ala', 'Angymonne', 'Vale'], 'Angatalie': ['Ala', 'Angymonne', 'Vale'], 'Lamaa': ['Ala', 'Archee'], 'Tuomuta': ['Ala', 'Archee'], 'Huola': ['Ala', 'Archee'], 'Kourmonen': ['Ala', 'Archee'], 'Kamela': ['Ala', 'Archee'], 'Sosala': ['Ala', 'Archee'], 'Anka': ['Ala', 'Archee'], 'Iesa': ['Ala', 'Archee'], 'Netsalakka': ['Ala', 'Archee'], 'Myyhera': ['Ala', 'Archee'], 'Gammel': ['Ala', 'Archee'], 'Uusanen': ['Ala', 'Archee'], 'Saikamon': ['Ala', 'Archee'], 'Malpara': ['Ala', 'Archee'], 'Sahtogas': ['Ala', 'Archee'], 'Haras': ['Ala', 'Archee'], 'Oyonata': ['Ala', 'Archee'], 'Kurniainen': ['Ala', 'Archee', 'Angymonne'], 'Saidusairos': ['Ala', 'Archee', 'Angymonne'], 'Tannakan': ['Ala', 'Archee'], 'Ayeroilen': ['Ala', 'Archee'], 'Imata': ['Ala', 'Archee'], 'MHC-R3': ['Vale'], 'F67E-Q': ['Vale'], '6E-578': ['Vale'], 'ZVN5-H': ['Vale'], 'ATY-2U': ['Vale'], '6-CZ49': ['Angymonne', 'Vale'], 'EZA-FM': ['Angymonne', 'Vale'], '8-JYPM': ['Angymonne', 'Vale'], 'PVH8-0': ['Angymonne', 'Vale'], 'M2-CF1': ['Vale'], 'JH-M2W': ['Angymonne', 'Vale'], 'PC9-AY': ['Angymonne', 'Vale'], 'T22-QI': ['Angymonne', 'Vale'], 'X-PYH5': ['Angymonne', 'Vale'], 'QWF-6P': ['Angymonne', 'Vale'], 'AAS-8R': ['Vale'], 'V4-L0X': ['Vale'], 'PFP-GU': ['Vale'], '0EK-NJ': ['Vale'], '1-NKVT': ['Angymonne', 'Vale'], 'UM-Q7F': ['Vale'], 'T-LIWS': ['Vale'], 'KTHT-O': ['Vale'], '97X-CH': ['Vale'], '5-T0PZ': ['Vale'], '6R-PWU': ['Vale'], '2Q-I6Q': ['Vale'], 'A-ZLHX': ['Vale'], 'UTKS-5': ['Vale'], 'VV-VCR': ['Vale'], 'Enden': ['Wirashoda', 'Senda'], 'Erstet': ['Senda'], 'Anstard': ['Senda'], 'Sahda': ['Ala', 'Archee', 'Angymonne', 'Vale'], 'Naguton': ['Ala', 'Archee', 'Angymonne'], 'Ealur': ['Ala', 'Archee', 'Angymonne', 'Vale'], 'Shajarleg': ['Ala', 'Archee', 'Angymonne', 'Vale'], 'Basan': ['Ala', 'Archee', 'Angymonne', 'Vale'], 'Akila': ['Ala', 'Archee'], 'Amod': ['Archee'], 'Mai': ['Ala'], 'Raravath': ['Archee'], 'Namaili': ['Archee'], 'Erzoh': ['Ala', 'Archee'], 'Agoze': ['Angymonne', 'Vale'], 'Brarel': ['Angymonne', 'Vale'], 'Vey': ['Angymonne', 'Vale'], 'Annancale': ['Angymonne', 'Vale'], 'Ostingele': ['Angymonne', 'Vale'], 'Harroule': ['Vale'], 'Covryn': ['Angymonne', 'Vale'], 'Iges': ['Angymonne', 'Vale'], 'Dastryns': ['Angymonne', 'Vale'], 'Slays': ['Angymonne', 'Vale'], 'Uphallant': ['Angymonne', 'Vale'], 'Alperaute': ['Vale'], 'Aunsou': ['Vale'], 'Cumemare': ['Vale'], 'Reynire': ['Vale'], 'Pain': ['Vale'], 'Gare': ['Vale'], 'Pelille': ['Vale'], 'Dour': ['Vale'], 'Grispire': ['Vale'], 'Aulbres': ['Vale'], 'Barleguet': ['Vale'], 'Eugales': ['Kaunokka', 'Ichoriya'], 'Frarie': ['Kaunokka', 'Ichoriya'], 'Aubenall': ['Ichoriya'], 'Moclinamaud': ['Ichoriya'], 'Renarelle': ['Ichoriya'], 'Vlillirier': ['Ichoriya'], 'Aldranette': ['Ichoriya'], 'Oicx': ['Ichoriya'], 'Evaulon': ['Ichoriya'], 'Anchauttes': ['Ichoriya'], 'Alsavoinon': ['Ichoriya'], 'Esesier': ['Ichoriya'], 'Avaux': ['Angymonne', 'Vale'], 'Gallusiene': ['Angymonne', 'Vale'], 'Ruerrotta': ['Vale'], 'Hedoubel': ['Vale'], 'Amoen': ['Vale'], 'Amasiree': ['Vale'], 'Aubonnie': ['Vale'], 'Arderonne': ['Ichoriya'], 'Mercomesier': ['Ichoriya'], 'Alamel': ['Ichoriya'], 'Mantenault': ['Ichoriya'], 'Athounon': ['Ichoriya'], 'Odamia': ['Ichoriya'], 'Hiroudeh': ['Ala', 'Archee', 'Angymonne', 'Vale'], 'Ansasos': ['Ala', 'Angymonne'], 'Dehrokh': ['Angymonne'], 'Bordan': ['Ala', 'Angymonne'], 'Zimmem': ['Ala', 'Archee', 'Angymonne'], 'Chaneya': ['Ala', 'Archee', 'Angymonne', 'Vale'], 'Oberen': ['Ala', 'Archee', 'Angymonne', 'Vale'], 'Finid': ['Ala', 'Archee', 'Angymonne', 'Vale'], 'Rayeret': ['Angymonne'], 'Garisas': ['Ala', 'Archee', 'Angymonne'], 'Mesybier': ['Archee', 'Kaunokka', 'Angymonne', 'Vale'], 'Yvangier': ['Kaunokka', 'Angymonne', 'Vale'], 'Pemene': ['Archee', 'Kaunokka', 'Angymonne', 'Vale'], 'Heydieles': ['Kaunokka', 'Angymonne', 'Vale'], 'Fliet': ['Kaunokka', 'Angymonne', 'Vale'], 'Indregulle': ['Kaunokka', 'Angymonne', 'Vale'], 'Abune': ['Kaunokka', 'Angymonne', 'Vale', 'Ichoriya'], 'Deven': ['Kaunokka', 'Angymonne', 'Vale'], 'Estaunitte': ['Kaunokka', 'Angymonne', 'Vale', 'Senda'], 'Hulmate': ['Angymonne', 'Vale'], 'Onne': ['Angymonne', 'Vale'], 'Vitrauze': ['Ala', 'Angymonne', 'Vale'], 'Palmon': ['Ala', 'Archee', 'Angymonne', 'Vale'], 'Obalyu': ['Angymonne', 'Vale'], 'Vifrevaert': ['Angymonne', 'Vale'], 'Parts': ['Angymonne', 'Vale'], 'Ladistier': ['Angymonne', 'Vale'], 'Old Man Star': ['Kaunokka', 'Angymonne', 'Vale'], 'Adirain': ['Archee', 'Angymonne', 'Vale'], 'Lisbaetanne': ['Archee', 'Angymonne', 'Vale'], 'Aeschee': ['Angymonne', 'Vale'], 'Allebin': ['Angymonne', 'Vale'], 'Atlulle': ['Angymonne', 'Vale'], 'Haine': ['Kaunokka', 'Angymonne', 'Vale'], 'Isenan': ['Angymonne', 'Vale'], 'Seyllin': ['Archee', 'Kaunokka', 'Angymonne', 'Vale'], 'Ane': ['Archee', 'Kaunokka', 'Angymonne', 'Vale'], 'Cleyd': ['Ala', 'Archee', 'Angymonne', 'Vale'], 'Vecamia': ['Ala', 'Archee', 'Angymonne', 'Vale'], 'Ahbazon': ['Ala', 'Archee', 'Angymonne', 'Vale'], 'Atreen': ['Ala', 'Archee', 'Angymonne', 'Vale'], 'Tarta': ['Ala', 'Archee', 'Angymonne', 'Vale'], 'Nardiarang': ['Ala', 'Archee', 'Angymonne', 'Vale'], 'Ziasad': ['Ala', 'Archee', 'Angymonne', 'Vale'], 'Sibe': ['Ala', 'Archee', 'Angymonne', 'Vale'], 'Makhwasan': ['Ala', 'Archee', 'Angymonne', 'Vale'], 'Zarer': ['Ala', 'Archee', 'Angymonne', 'Vale'], 'Toon': ['Archee', 'Angymonne', 'Vale'], 'Hesarid': ['Angymonne', 'Vale'], 'Apanake': ['Archee', 'Angymonne', 'Vale'], 'Zoohen': ['Ala', 'Archee', 'Angymonne', 'Vale'], 'Serren': ['Ala', 'Archee', 'Angymonne', 'Vale'], 'Hadji': ['Ala', 'Archee', 'Angymonne', 'Vale'], 'Assez': ['Ala', 'Archee', 'Angymonne', 'Vale'], 'Alal': ['Ala', 'Archee', 'Angymonne', 'Vale'], 'Dom-Aphis': ['Ala', 'Archee', 'Angymonne', 'Vale'], 'Iderion': ['Ala', 'Archee', 'Angymonne', 'Vale'], 'Chamja': ['Ala', 'Archee', 'Angymonne', 'Vale'], 'Pashanai': ['Angymonne', 'Vale'], 'Pamah': ['Angymonne', 'Vale'], 'Leran': ['Angymonne', 'Vale'], 'Beke': ['Angymonne', 'Vale'], 'Hirizan': ['Angymonne'], 'Ebasez': ['Angymonne', 'Vale'], 'Bania': ['Angymonne', 'Vale'], 'Murethand': ['Kaunokka', 'Angymonne', 'Vale'], 'Melmaniel': ['Angymonne', 'Vale'], 'Ouelletta': ['Angymonne', 'Vale'], 'Costolle': ['Angymonne', 'Vale'], 'Muetralle': ['Angymonne', 'Vale'], 'Loes': ['Angymonne', 'Vale'], 'Hevrice': ['Angymonne', 'Vale'], 'Jovainnon': ['Angymonne', 'Vale'], 'Reblier': ['Angymonne', 'Vale'], 'Amoderia': ['Archee', 'Kaunokka', 'Angymonne', 'Vale'], 'Arraron': ['Archee', 'Angymonne', 'Vale'], 'Hykanima': ['Ichoriya'], 'Okagaiken': ['Ichoriya'], 'Kehjari': ['Ichoriya'], 'Villasen': ['Ichoriya'], 'Sarenemi': ['Ichoriya'], 'Ashitsu': ['Ichoriya'], 'Ienakkamon': ['Ichoriya'], 'Kinakka': ['Kaunokka', 'Ichoriya'], 'Raihbaka': ['Ichoriya'], 'Innia': ['Ichoriya'], 'Iralaja': ['Ichoriya'], 'Martoh': ['Ichoriya'], 'Eha': ['Ichoriya'], 'Pavanakka': ['Kaunokka', 'Ichoriya'], 'Uchomida': ['Arvasaras', 'Kaunokka', 'Ichoriya'], 'Uuhulanen': ['Arvasaras', 'Kaunokka', 'Ichoriya'], 'Okkamon': ['Arvasaras', 'Kaunokka', 'Senda', 'Ichoriya'], 'Vaaralen': ['Wirashoda', 'Arvasaras', 'Kaunokka', 'Senda', 'Ichoriya'], 'Asakai': ['Arvasaras', 'Kaunokka', 'Ichoriya'], 'Prism': ['Arvasaras', 'Kaunokka', 'Ichoriya'], 'Mushikegi': ['Arvasaras', 'Kaunokka', 'Ichoriya'], 'Teskanen': ['Arvasaras', 'Kaunokka', 'Ichoriya'], 'Elunala': ['Arvasaras', 'Kaunokka', 'Ichoriya'], 'Ikoskio': ['Arvasaras', 'Kaunokka', 'Ichoriya'], 'Hikkoken': ['Kaunokka', 'Ichoriya'], 'Enaluri': ['Kaunokka', 'Ichoriya'], 'Aivonen': ['Kaunokka', 'Ichoriya'], 'Hallanen': ['Kaunokka', 'Ichoriya'], 'Akidagi': ['Kaunokka', 'Ichoriya'], 'Immuri': ['Ichoriya'], 'Nennamaila': ['Kaunokka', 'Ichoriya'], 'Hirri': ['Arvasaras', 'Kaunokka', 'Vale', 'Ichoriya'], 'Kedama': ['Arvasaras', 'Kaunokka', 'Senda', 'Ichoriya'], 'Oinasiken': ['Arvasaras', 'Kaunokka', 'Vale', 'Ichoriya'], 'Notoras': ['Arvasaras', 'Kaunokka', 'Vale', 'Ichoriya'], 'Rakapas': ['Kaunokka', 'Ichoriya'], 'Teimo': ['Arvasaras', 'Kaunokka', 'Vale', 'Senda', 'Ichoriya'], 'Iwisoda': ['Arvasaras', 'Kaunokka', 'Ichoriya'], 'Nisuwa': ['Arvasaras', 'Kaunokka', 'Senda', 'Ichoriya'], 'Pynekastoh': ['Kaunokka', 'Vale', 'Ichoriya'], 'Reitsato': ['Arvasaras', 'Kaunokka', 'Ichoriya']}\n"
     ]
    }
   ],
   "source": [
    "print(systInRangePerun)"
   ]
  },
  {
   "cell_type": "code",
   "execution_count": 14,
   "metadata": {},
   "outputs": [],
   "source": [
    "systInRangeVeles = {}\n",
    "systInRangeVeles[\"svarog\"] = [1,2,3]"
   ]
  },
  {
   "cell_type": "code",
   "execution_count": 56,
   "metadata": {},
   "outputs": [],
   "source": [
    "for system in systInRangePerun:\n",
    "    print(system[3])"
   ]
  },
  {
   "cell_type": "code",
   "execution_count": 45,
   "metadata": {},
   "outputs": [
    {
     "data": {
      "text/plain": [
       "2.7752157068985817"
      ]
     },
     "execution_count": 45,
     "metadata": {},
     "output_type": "execute_result"
    }
   ],
   "source": [
    "distance(lowNullSec[3094],lowNullSec[3132])\n",
    "# print(kraiPerun[1])"
   ]
  },
  {
   "cell_type": "code",
   "execution_count": 7,
   "metadata": {},
   "outputs": [
    {
     "data": {
      "text/plain": [
       "2.7752157068985817"
      ]
     },
     "execution_count": 7,
     "metadata": {},
     "output_type": "execute_result"
    }
   ],
   "source": [
    "dist / 9460730472580800"
   ]
  },
  {
   "cell_type": "code",
   "execution_count": null,
   "metadata": {},
   "outputs": [],
   "source": []
  }
 ],
 "metadata": {
  "kernelspec": {
   "display_name": "Python 3",
   "language": "python",
   "name": "python3"
  },
  "language_info": {
   "codemirror_mode": {
    "name": "ipython",
    "version": 3
   },
   "file_extension": ".py",
   "mimetype": "text/x-python",
   "name": "python",
   "nbconvert_exporter": "python",
   "pygments_lexer": "ipython3",
   "version": "3.9.13"
  }
 },
 "nbformat": 4,
 "nbformat_minor": 2
}
